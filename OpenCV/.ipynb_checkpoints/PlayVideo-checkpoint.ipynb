{
 "cells": [
  {
   "cell_type": "code",
   "execution_count": 4,
   "id": "2389de4f-c5a5-43b8-8650-4d683adf71e7",
   "metadata": {},
   "outputs": [],
   "source": [
    "import cv2\n",
    "\n",
    "cap = cv2.VideoCapture(\"DemoVideo.mp4\") #Creates a VideoCapture object to read the video file \n",
    "                                        #cap is now your handler for that video stream.\n",
    "                                        #If the file doesn't exist or can't be opened, cap.isOpened() will return False.\n",
    "\n",
    "while cap.isOpened(): #Starts a loop that runs as long as the video file is successfully opened.\n",
    "    r , frame = cap.read()\n",
    "    if r == True:\n",
    "        frame = cv2.resize(frame , (500, 500))\n",
    "        cv2.imshow(\"Video\" , frame)\n",
    "        if cv2.waitKey(1) & 0xff == ord(\"p\"):\n",
    "            break\n",
    "    else:\n",
    "        break\n",
    "\n",
    "cap.release()\n",
    "cv2.destroyAllWindows()\n"
   ]
  },
  {
   "cell_type": "code",
   "execution_count": null,
   "id": "7e44d004-231a-46cd-9218-c0c8b3939897",
   "metadata": {},
   "outputs": [],
   "source": []
  },
  {
   "cell_type": "code",
   "execution_count": null,
   "id": "5e815f7d-ee1c-48db-bf15-faab4d12b399",
   "metadata": {},
   "outputs": [],
   "source": []
  }
 ],
 "metadata": {
  "kernelspec": {
   "display_name": "Python 3 (ipykernel)",
   "language": "python",
   "name": "python3"
  },
  "language_info": {
   "codemirror_mode": {
    "name": "ipython",
    "version": 3
   },
   "file_extension": ".py",
   "mimetype": "text/x-python",
   "name": "python",
   "nbconvert_exporter": "python",
   "pygments_lexer": "ipython3",
   "version": "3.13.1"
  }
 },
 "nbformat": 4,
 "nbformat_minor": 5
}
