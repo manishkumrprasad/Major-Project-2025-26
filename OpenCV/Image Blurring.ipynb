{
 "cells": [
  {
   "cell_type": "code",
   "execution_count": 19,
   "id": "3029ffd6-c583-498a-aea8-9c38afb6f60a",
   "metadata": {},
   "outputs": [],
   "source": [
    "import cv2\n",
    "import numpy as np\n",
    "\n",
    "org_img = cv2.imread(\"Rocky.jpeg\")\n",
    "res_img = cv2.resize(org_img , (300, 600))\n",
    "\n",
    "g = cv2.GaussianBlur(res_img , (5 , 5) , 0) #You can only pass 3x3, 5x5 and 7x7 matrix only\n",
    "m = cv2.medianBlur(res_img , 7) #In The Second Parameter We Can only pass 3,5 and 7\n",
    "b = cv2.bilateralFilter(res_img , 9 , 75,75)\n",
    "\n",
    "h = np.hstack((res_img , g , m , b))\n",
    "cv2.imshow(\"Image\" , h)\n",
    "cv2.waitKey(0)\n",
    "cv2.destroyAllWindows()\n"
   ]
  },
  {
   "cell_type": "code",
   "execution_count": null,
   "id": "0f6c87ac-72dd-4f15-8ebf-e16a097c4450",
   "metadata": {},
   "outputs": [],
   "source": []
  }
 ],
 "metadata": {
  "kernelspec": {
   "display_name": "Python 3 (ipykernel)",
   "language": "python",
   "name": "python3"
  },
  "language_info": {
   "codemirror_mode": {
    "name": "ipython",
    "version": 3
   },
   "file_extension": ".py",
   "mimetype": "text/x-python",
   "name": "python",
   "nbconvert_exporter": "python",
   "pygments_lexer": "ipython3",
   "version": "3.13.1"
  }
 },
 "nbformat": 4,
 "nbformat_minor": 5
}
