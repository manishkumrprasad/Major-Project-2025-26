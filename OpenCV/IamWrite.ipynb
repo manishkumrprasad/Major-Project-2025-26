{
 "cells": [
  {
   "cell_type": "code",
   "execution_count": 3,
   "id": "f87c3dde-8e3a-42e3-b7fc-9d4e93ebaed3",
   "metadata": {},
   "outputs": [],
   "source": [
    "import cv2\n",
    "import numpy as np\n",
    "\n",
    "org_img = cv2.imread(\"Rocky.jpeg\")\n",
    "res_img = cv2.resize(org_img , (300, 600))\n",
    "\n",
    "g = cv2.GaussianBlur(res_img , (5 , 5) , 0) #You can only pass 3x3, 5x5 and 7x7 matrix only\n",
    "m = cv2.medianBlur(res_img , 7) #In The Second Parameter We Can only pass 3,5 and 7\n",
    "b = cv2.bilateralFilter(res_img , 9 , 75,75)\n",
    "\n",
    "h = np.hstack((res_img , g , m , b))\n",
    "cv2.imwrite(\"Rocky_Combined.jpeg\" , h)\n",
    "cv2.imshow(\"Image\" , h)\n",
    "cv2.waitKey(0)\n",
    "cv2.destroyAllWindows()\n"
   ]
  },
  {
   "cell_type": "code",
   "execution_count": null,
   "id": "e9daa259-37f4-47fe-bf8d-da8f62408e64",
   "metadata": {},
   "outputs": [],
   "source": []
  },
  {
   "cell_type": "code",
   "execution_count": null,
   "id": "7c4fb3fb-b7d4-4d59-ac34-8724d9a53786",
   "metadata": {},
   "outputs": [],
   "source": []
  }
 ],
 "metadata": {
  "kernelspec": {
   "display_name": "Python 3 (ipykernel)",
   "language": "python",
   "name": "python3"
  },
  "language_info": {
   "codemirror_mode": {
    "name": "ipython",
    "version": 3
   },
   "file_extension": ".py",
   "mimetype": "text/x-python",
   "name": "python",
   "nbconvert_exporter": "python",
   "pygments_lexer": "ipython3",
   "version": "3.13.1"
  }
 },
 "nbformat": 4,
 "nbformat_minor": 5
}
