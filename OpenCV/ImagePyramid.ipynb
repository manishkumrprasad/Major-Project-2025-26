{
 "cells": [
  {
   "cell_type": "code",
   "execution_count": 2,
   "id": "16cb6265-722a-432a-9c18-2664b6db9cb4",
   "metadata": {},
   "outputs": [
    {
     "name": "stdout",
     "output_type": "stream",
     "text": [
      "(1472, 736, 3)\n",
      "(736, 368, 3)\n",
      "(368, 184, 3)\n",
      "(184, 92, 3)\n"
     ]
    }
   ],
   "source": [
    "import cv2\n",
    "\n",
    "\n",
    "img = cv2.imread(\"Rocky.jpeg\")\n",
    "print(img.shape)\n",
    "\n",
    "n1 = cv2.pyrDown(img)\n",
    "print(n1.shape)\n",
    "\n",
    "n2 = cv2.pyrDown(n1)\n",
    "print(n2.shape)\n",
    "\n",
    "n3 = cv2.pyrDown(n2)\n",
    "print(n3.shape)\n",
    "\n",
    "\n",
    "\n",
    "cv2.imshow(\"Original Image\" , img)\n",
    "cv2.imshow(\"Smaller Image One\" , n1)\n",
    "cv2.imshow(\"Smaller Image Two\" , n2)\n",
    "cv2.imshow(\"Smaller Image Three\" , n3)\n",
    "\n",
    "\n",
    "cv2.waitKey(0)\n",
    "cv2.destroyAllWindows()"
   ]
  },
  {
   "cell_type": "code",
   "execution_count": null,
   "id": "56e7ad5a-3e2e-421c-a0f6-f511ce475611",
   "metadata": {},
   "outputs": [],
   "source": []
  }
 ],
 "metadata": {
  "kernelspec": {
   "display_name": "Python 3 (ipykernel)",
   "language": "python",
   "name": "python3"
  },
  "language_info": {
   "codemirror_mode": {
    "name": "ipython",
    "version": 3
   },
   "file_extension": ".py",
   "mimetype": "text/x-python",
   "name": "python",
   "nbconvert_exporter": "python",
   "pygments_lexer": "ipython3",
   "version": "3.13.1"
  }
 },
 "nbformat": 4,
 "nbformat_minor": 5
}
