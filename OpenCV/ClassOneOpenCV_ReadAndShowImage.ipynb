{
 "cells": [
  {
   "cell_type": "code",
   "execution_count": 4,
   "id": "17508ad4-882e-4492-b580-fc752eb183df",
   "metadata": {},
   "outputs": [],
   "source": [
    "import cv2\n",
    "\n",
    "img = cv2.imread(\"MenOne.jpeg\") #Image Read\n",
    "cv2.imshow(\"Learning OpenCV\", img) #Shows The Image\n",
    "cv2.waitKey(0) #How much time the frame will wait parameter is passed in ms and if you passesd 0 keyboard any press\n",
    "\n",
    "cv2.destroyAllWindows() #All Window Close\n",
    "#cv2.destroyWindow() #Only One window Closed "
   ]
  },
  {
   "cell_type": "code",
   "execution_count": 1,
   "id": "f2b018d6-3ef5-456d-b618-dc49f724ca08",
   "metadata": {},
   "outputs": [],
   "source": [
    "import cv2\n",
    "\n",
    "img = cv2.imread(\"MenOne.jpeg\") #Image Read\n",
    "cv2.imshow(\"Learning OpenCV 1\", img) #Shows The Image\n",
    "cv2.imshow(\"Learning OpenCV 2\", img) #Shows The Image\n",
    "\n",
    "cv2.waitKey(0) #How much time the frame will wait parameter is passed in ms and if you passesd 0 keyboard any press\n",
    "\n",
    "#cv2.destroyAllWindows() #All Window Close\n",
    "cv2.destroyWindow(\"Learning OpenCV 1\") #Only One window Closed "
   ]
  },
  {
   "cell_type": "code",
   "execution_count": null,
   "id": "b314cdeb-ea85-4f0a-b6d4-3785f4a7bdd9",
   "metadata": {},
   "outputs": [],
   "source": []
  },
  {
   "cell_type": "code",
   "execution_count": null,
   "id": "288c6fc8-159c-4c84-af2f-03d0540a505f",
   "metadata": {},
   "outputs": [],
   "source": []
  },
  {
   "cell_type": "code",
   "execution_count": null,
   "id": "8e680285-591b-4c69-88de-c0d1c5c18987",
   "metadata": {},
   "outputs": [],
   "source": []
  },
  {
   "cell_type": "code",
   "execution_count": null,
   "id": "b47e475e-beec-4c76-ae86-b3a16f714df9",
   "metadata": {},
   "outputs": [],
   "source": []
  }
 ],
 "metadata": {
  "kernelspec": {
   "display_name": "Python 3 (ipykernel)",
   "language": "python",
   "name": "python3"
  },
  "language_info": {
   "codemirror_mode": {
    "name": "ipython",
    "version": 3
   },
   "file_extension": ".py",
   "mimetype": "text/x-python",
   "name": "python",
   "nbconvert_exporter": "python",
   "pygments_lexer": "ipython3",
   "version": "3.13.1"
  }
 },
 "nbformat": 4,
 "nbformat_minor": 5
}
