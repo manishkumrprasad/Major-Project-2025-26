{
 "cells": [
  {
   "cell_type": "code",
   "execution_count": null,
   "id": "bfe3b575-b846-49e9-925a-aff0c031eb22",
   "metadata": {},
   "outputs": [],
   "source": [
    "import cv2\n",
    "import numpy as np\n"
   ]
  },
  {
   "cell_type": "code",
   "execution_count": 6,
   "id": "97a02e6d-54d2-45a6-9d49-332fa395d49c",
   "metadata": {},
   "outputs": [
    {
     "data": {
      "text/plain": [
       "<function destroyAllWindows>"
      ]
     },
     "execution_count": 6,
     "metadata": {},
     "output_type": "execute_result"
    }
   ],
   "source": [
    "import cv2\n",
    "import numpy as np\n",
    "\n",
    "Img = cv2.imread(\"MenOne.jpeg\")\n",
    "re_Img = cv2.resize(Img, (500,600))\n",
    "cv2.imshow(\"MenFrame\" , re_Img)\n",
    "cv2.waitKey(0)\n",
    "cv2.destroyAllWindows"
   ]
  },
  {
   "cell_type": "code",
   "execution_count": 10,
   "id": "2fc7d45d-755f-49bd-bcad-575e9d70b249",
   "metadata": {},
   "outputs": [
    {
     "data": {
      "text/plain": [
       "array([[1, 2, 1, 2],\n",
       "       [1, 2, 1, 2]])"
      ]
     },
     "execution_count": 10,
     "metadata": {},
     "output_type": "execute_result"
    }
   ],
   "source": [
    "import numpy as np\n",
    "\n",
    "v = np.array([[1,2,1,2],\n",
    "            [1,2,1,2]])\n",
    "v"
   ]
  },
  {
   "cell_type": "code",
   "execution_count": 11,
   "id": "b742bb1e-5ad7-4c32-9b97-d68b74c97ecb",
   "metadata": {},
   "outputs": [
    {
     "name": "stdout",
     "output_type": "stream",
     "text": [
      "[[[184 179 181]\n",
      "  [184 179 181]\n",
      "  [184 179 181]\n",
      "  ...\n",
      "  [193 188 189]\n",
      "  [193 188 189]\n",
      "  [193 188 189]]\n",
      "\n",
      " [[184 179 181]\n",
      "  [184 179 181]\n",
      "  [184 179 181]\n",
      "  ...\n",
      "  [194 189 190]\n",
      "  [194 189 190]\n",
      "  [194 189 190]]\n",
      "\n",
      " [[184 179 181]\n",
      "  [184 179 181]\n",
      "  [184 179 181]\n",
      "  ...\n",
      "  [194 189 190]\n",
      "  [194 189 190]\n",
      "  [194 189 190]]\n",
      "\n",
      " ...\n",
      "\n",
      " [[183 180 182]\n",
      "  [183 180 182]\n",
      "  [183 180 182]\n",
      "  ...\n",
      "  [184 179 181]\n",
      "  [184 179 181]\n",
      "  [184 179 181]]\n",
      "\n",
      " [[187 182 184]\n",
      "  [186 181 183]\n",
      "  [186 181 183]\n",
      "  ...\n",
      "  [184 179 181]\n",
      "  [183 178 180]\n",
      "  [183 178 180]]\n",
      "\n",
      " [[187 182 184]\n",
      "  [186 181 183]\n",
      "  [186 181 183]\n",
      "  ...\n",
      "  [184 179 181]\n",
      "  [183 178 180]\n",
      "  [183 178 180]]]\n"
     ]
    }
   ],
   "source": [
    "import cv2\n",
    "import numpy as np\n",
    "\n",
    "Img = cv2.imread(\"MenOne.jpeg\")\n",
    "\n",
    "print(Img)\n",
    "\n"
   ]
  },
  {
   "cell_type": "code",
   "execution_count": null,
   "id": "6cbe53d2-0501-4b3f-9cd7-126cb3815016",
   "metadata": {},
   "outputs": [],
   "source": []
  }
 ],
 "metadata": {
  "kernelspec": {
   "display_name": "Python 3 (ipykernel)",
   "language": "python",
   "name": "python3"
  },
  "language_info": {
   "codemirror_mode": {
    "name": "ipython",
    "version": 3
   },
   "file_extension": ".py",
   "mimetype": "text/x-python",
   "name": "python",
   "nbconvert_exporter": "python",
   "pygments_lexer": "ipython3",
   "version": "3.13.1"
  }
 },
 "nbformat": 4,
 "nbformat_minor": 5
}
