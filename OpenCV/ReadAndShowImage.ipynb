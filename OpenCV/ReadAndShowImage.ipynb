{
 "cells": [
  {
   "cell_type": "code",
   "execution_count": 2,
   "id": "8882feef-64b2-46f6-a43e-e81bebc838b3",
   "metadata": {},
   "outputs": [
    {
     "name": "stdout",
     "output_type": "stream",
     "text": [
      "(626, 626, 3)\n"
     ]
    }
   ],
   "source": [
    "import cv2\n",
    "\n",
    "img = cv2.imread(\"MenOne.jpeg\")\n",
    "\n",
    "print(img.shape)\n",
    "\n"
   ]
  },
  {
   "cell_type": "code",
   "execution_count": 9,
   "id": "51d0d5e1-57d9-4bc7-87c8-6a50a6364415",
   "metadata": {},
   "outputs": [
    {
     "name": "stdout",
     "output_type": "stream",
     "text": [
      "(626, 626, 3)\n"
     ]
    }
   ],
   "source": [
    "#IMREAD_COLOR\n",
    "import cv2\n",
    "\n",
    "img = cv2.imread(\"MenOne.jpeg\" , 1) #IMREAD_COLOR\n",
    "print(img.shape)\n",
    "\n",
    "img = cv2.resize(img , (500,500))\n",
    "cv2.imshow(\"WsCube\" , img)\n",
    "cv2.waitKey(0)\n",
    "cv2.destroyAllWindows()\n"
   ]
  },
  {
   "cell_type": "code",
   "execution_count": 11,
   "id": "2faa0f40-c440-4a8a-ac5b-67cd36e56ac6",
   "metadata": {},
   "outputs": [
    {
     "name": "stdout",
     "output_type": "stream",
     "text": [
      "(626, 626, 3)\n"
     ]
    }
   ],
   "source": [
    "#IMREAD_UNCHANGED\n",
    "import cv2\n",
    "\n",
    "img = cv2.imread(\"MenOne.jpeg\" , -1)\n",
    "print(img.shape)\n",
    "\n",
    "img = cv2.resize(img , (500,500))\n",
    "cv2.imshow(\"WsCube\" , img)\n",
    "cv2.waitKey(0)\n",
    "cv2.destroyAllWindows()\n"
   ]
  },
  {
   "cell_type": "code",
   "execution_count": 8,
   "id": "167a84d2-ac0a-450f-a0fb-b303f9255161",
   "metadata": {},
   "outputs": [
    {
     "name": "stdout",
     "output_type": "stream",
     "text": [
      "(626, 626)\n"
     ]
    }
   ],
   "source": [
    "#IMREAD_GRAYSCALE\n",
    "import cv2\n",
    "\n",
    "img = cv2.imread(\"MenOne.jpeg\" , 0) #IMREAD_GRAYSCALE\n",
    "print(img.shape)\n",
    "\n",
    "img = cv2.resize(img , (500,500))\n",
    "cv2.imshow(\"WsCube\" , img)\n",
    "cv2.waitKey(0)\n",
    "cv2.destroyAllWindows()\n"
   ]
  },
  {
   "cell_type": "code",
   "execution_count": null,
   "id": "8ca9ddf8-b869-49ad-8a98-1f6cc9b208c7",
   "metadata": {},
   "outputs": [],
   "source": []
  }
 ],
 "metadata": {
  "kernelspec": {
   "display_name": "Python 3 (ipykernel)",
   "language": "python",
   "name": "python3"
  },
  "language_info": {
   "codemirror_mode": {
    "name": "ipython",
    "version": 3
   },
   "file_extension": ".py",
   "mimetype": "text/x-python",
   "name": "python",
   "nbconvert_exporter": "python",
   "pygments_lexer": "ipython3",
   "version": "3.13.1"
  }
 },
 "nbformat": 4,
 "nbformat_minor": 5
}
