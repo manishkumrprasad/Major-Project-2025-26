{
 "cells": [
  {
   "cell_type": "code",
   "execution_count": 12,
   "id": "c8d85328-d435-4c52-93d8-6a6787bcef41",
   "metadata": {},
   "outputs": [],
   "source": [
    "import cv2\n",
    "\n",
    "old_img = cv2.imread(\"MenOne.jpeg\")\n",
    "old_img = cv2.resize(img , (500,500))\n",
    "\n",
    "img = cv2.circle(img = old_img , center = (270 , 100) , radius = 100 , color = (0 , 255 , 0) , thickness = 4 , lineType = 16)\n",
    "\n",
    "cv2.imshow(\"Employee\" , old_img)\n",
    "cv2.waitKey(0)\n",
    "cv2.destroyAllWindows()"
   ]
  },
  {
   "cell_type": "code",
   "execution_count": null,
   "id": "003fd2c9-9a62-48e1-b516-b824f54f0deb",
   "metadata": {},
   "outputs": [],
   "source": []
  }
 ],
 "metadata": {
  "kernelspec": {
   "display_name": "Python 3 (ipykernel)",
   "language": "python",
   "name": "python3"
  },
  "language_info": {
   "codemirror_mode": {
    "name": "ipython",
    "version": 3
   },
   "file_extension": ".py",
   "mimetype": "text/x-python",
   "name": "python",
   "nbconvert_exporter": "python",
   "pygments_lexer": "ipython3",
   "version": "3.13.1"
  }
 },
 "nbformat": 4,
 "nbformat_minor": 5
}
