{
 "cells": [
  {
   "cell_type": "code",
   "execution_count": 2,
   "id": "87043b74-3d00-47a5-9ac1-888ade29091a",
   "metadata": {},
   "outputs": [],
   "source": [
    "#In this program we will learn about image resizing and image rotating\n",
    "import cv2\n",
    "\n",
    "org_img = cv2.imread(\"WomenOne.jpeg\")\n",
    "resized_img = cv2.resize(org_img , (500,500))\n",
    "\n",
    "cv2.imshow(\"Original_Image\" , org_img)\n",
    "cv2.imshow(\"Resized_Image\" , resized_img)\n",
    "\n",
    "cv2.waitKey(0)\n",
    "cv2.destroyAllWindows()"
   ]
  },
  {
   "cell_type": "code",
   "execution_count": 8,
   "id": "4f2e2992-177d-4182-9fb9-6c36efabe2f9",
   "metadata": {},
   "outputs": [],
   "source": [
    "#Image Rorating by some angles\n",
    "import cv2\n",
    "\n",
    "org_img = cv2.imread(\"WomenOne.jpeg\")\n",
    "resized_img = cv2.resize(org_img , (500,500))\n",
    "\n",
    "h = resized_img.shape[0] #variable h stores the height of the image\n",
    "w = resized_img.shape[1] #variable w stores the width of the image\n",
    "\n",
    "m = cv2.getRotationMatrix2D((w / 2 , h / 2) , 300 , 1) #The second parameter is the angle, to which you want to rotate\n",
    "                                                       #The getRotationMatrix2D is used to create a rotation matrix\n",
    "                                                       #It returns a 2x3 affine transformation\n",
    "new_img = cv2.warpAffine(resized_img , m , (w,h))\n",
    "\n",
    "cv2.imshow(\"Rotated Image\" , new_img)\n",
    "cv2.waitKey(0)\n",
    "cv2.destroyAllWindows()"
   ]
  },
  {
   "cell_type": "code",
   "execution_count": null,
   "id": "255f3fe6-e5e1-4864-835d-a855967feaf8",
   "metadata": {},
   "outputs": [],
   "source": []
  }
 ],
 "metadata": {
  "kernelspec": {
   "display_name": "Python 3 (ipykernel)",
   "language": "python",
   "name": "python3"
  },
  "language_info": {
   "codemirror_mode": {
    "name": "ipython",
    "version": 3
   },
   "file_extension": ".py",
   "mimetype": "text/x-python",
   "name": "python",
   "nbconvert_exporter": "python",
   "pygments_lexer": "ipython3",
   "version": "3.13.1"
  }
 },
 "nbformat": 4,
 "nbformat_minor": 5
}
