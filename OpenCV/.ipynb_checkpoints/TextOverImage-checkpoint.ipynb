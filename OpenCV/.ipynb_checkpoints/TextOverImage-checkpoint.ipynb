{
 "cells": [
  {
   "cell_type": "code",
   "execution_count": 33,
   "id": "09d9c1db-d65a-45cb-8a94-9c1211bda866",
   "metadata": {},
   "outputs": [],
   "source": [
    "import cv2\n",
    "\n",
    "img_get = cv2.imread(\"MenOne.jpeg\")\n",
    "img_get = cv2.resize(img_get ,(500 , 500))\n",
    "\n",
    "# img = img_get\n",
    "# text = \"PyThon OpenCV\"\n",
    "# org = (100 , 100)\n",
    "# fontFace = 2 #or cv2.FONT_HERSHEY_DUPLEX\n",
    "# fontScale = 5 \n",
    "# color = (144 , 122, 78)\n",
    "# thinckness = 2 \n",
    "# lineType = cv2.LINE_8\n",
    "# bottomLeftOrigin = False\n",
    "\n",
    "txt = cv2.putText(img = img_get,\n",
    "text = \"PyThon OpenCV\",\n",
    "org = (0,50),\n",
    "fontFace = 4 ,#or cv2.FONT_HERSHEY_DUPLEX\n",
    "fontScale = 2 ,\n",
    "color = (144 , 122, 78),\n",
    "thickness = 1 ,\n",
    "lineType = cv2.LINE_8,\n",
    "bottomLeftOrigin = False)\n",
    "\n",
    "txt2 = cv2.putText(img = img_get,\n",
    "text = \"PyThon OpenCV\",\n",
    "org = (0,60),\n",
    "fontFace = 4 ,#or cv2.FONT_HERSHEY_DUPLEX \n",
    "fontScale = 2 ,\n",
    "color = (0 , 122, 78),\n",
    "thickness = 1 ,\n",
    "lineType = cv2.LINE_8,\n",
    "bottomLeftOrigin = True)\n",
    "\n",
    "\n",
    "cv2.imshow(\"Learning\" , txt)\n",
    "cv2.waitKey(0)\n",
    "cv2.destroyAllWindows()\n",
    "\n",
    "\n"
   ]
  },
  {
   "cell_type": "code",
   "execution_count": null,
   "id": "c8a777af-764a-4c8e-a6d4-480b99663a7c",
   "metadata": {},
   "outputs": [],
   "source": []
  }
 ],
 "metadata": {
  "kernelspec": {
   "display_name": "Python 3 (ipykernel)",
   "language": "python",
   "name": "python3"
  },
  "language_info": {
   "codemirror_mode": {
    "name": "ipython",
    "version": 3
   },
   "file_extension": ".py",
   "mimetype": "text/x-python",
   "name": "python",
   "nbconvert_exporter": "python",
   "pygments_lexer": "ipython3",
   "version": "3.13.1"
  }
 },
 "nbformat": 4,
 "nbformat_minor": 5
}
