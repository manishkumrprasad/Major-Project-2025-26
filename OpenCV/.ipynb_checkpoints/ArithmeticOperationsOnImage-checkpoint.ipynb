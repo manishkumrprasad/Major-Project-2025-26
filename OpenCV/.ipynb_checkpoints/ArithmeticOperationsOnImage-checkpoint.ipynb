{
 "cells": [
  {
   "cell_type": "code",
   "execution_count": 15,
   "id": "d7df6060-dab8-4bf6-ae7e-ac63af6e92d2",
   "metadata": {},
   "outputs": [],
   "source": [
    "import cv2\n",
    "\n",
    "img1 = cv2.imread(\"MenOne.jpeg\")\n",
    "img2 = cv2.imread(\"WomenOne.jpeg\")\n",
    "\n",
    "img1 = cv2.resize(img1 , (500,500))\n",
    "img2 = cv2.resize(img2 , (500,500))\n",
    "\n",
    "\n",
    "new_img = cv2.addWeighted(img1 , 0.5 , img2 , 0.2 , 1)\n",
    "\n",
    "cv2.imshow(\"ImageOneImageTwo\" , new_img)\n",
    "\n",
    "cv2.waitKey(0)\n",
    "cv2.destroyAllWindows()\n",
    "\n"
   ]
  },
  {
   "cell_type": "code",
   "execution_count": null,
   "id": "5955ba3f-c532-4ff2-b049-16edbc069655",
   "metadata": {},
   "outputs": [],
   "source": []
  }
 ],
 "metadata": {
  "kernelspec": {
   "display_name": "Python 3 (ipykernel)",
   "language": "python",
   "name": "python3"
  },
  "language_info": {
   "codemirror_mode": {
    "name": "ipython",
    "version": 3
   },
   "file_extension": ".py",
   "mimetype": "text/x-python",
   "name": "python",
   "nbconvert_exporter": "python",
   "pygments_lexer": "ipython3",
   "version": "3.13.1"
  }
 },
 "nbformat": 4,
 "nbformat_minor": 5
}
