{
 "cells": [
  {
   "cell_type": "code",
   "execution_count": 12,
   "id": "dc8f174c-0b81-4d30-afbb-2eb8ddc210da",
   "metadata": {},
   "outputs": [
    {
     "name": "stdout",
     "output_type": "stream",
     "text": [
      "(500, 500, 3)\n",
      "(500, 500)\n"
     ]
    }
   ],
   "source": [
    "import cv2\n",
    "\n",
    "old_img = cv2.imread(\"MenOne.jpeg\")\n",
    "old_img = cv2.resize(old_img , (500 , 500))\n",
    "\n",
    "new_img = cv2.Canny(old_img , 200 , 100 , apertureSize = 5) #The apertureSize parameter is used to provide more clean details\n",
    "                                                            #the value of apertureSize parameter is 3(default) , 5 and 7 \n",
    "\n",
    "print(old_img.shape)\n",
    "print(new_img.shape)\n",
    "\n",
    "cv2.imshow(\"ImageOne\" , old_img)\n",
    "cv2.imshow(\"ImageTwo\" , new_img)\n",
    "\n",
    "cv2.waitKey(0)\n",
    "cv2.destroyAllWindows()\n"
   ]
  },
  {
   "cell_type": "code",
   "execution_count": null,
   "id": "116c4aad-13d2-47ea-812c-65797dd25628",
   "metadata": {},
   "outputs": [],
   "source": []
  }
 ],
 "metadata": {
  "kernelspec": {
   "display_name": "Python 3 (ipykernel)",
   "language": "python",
   "name": "python3"
  },
  "language_info": {
   "codemirror_mode": {
    "name": "ipython",
    "version": 3
   },
   "file_extension": ".py",
   "mimetype": "text/x-python",
   "name": "python",
   "nbconvert_exporter": "python",
   "pygments_lexer": "ipython3",
   "version": "3.13.1"
  }
 },
 "nbformat": 4,
 "nbformat_minor": 5
}
