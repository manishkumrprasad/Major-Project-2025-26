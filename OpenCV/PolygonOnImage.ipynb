{
 "cells": [
  {
   "cell_type": "code",
   "execution_count": 15,
   "id": "59894933-065e-40c8-b4fc-80b95d7d0d3f",
   "metadata": {},
   "outputs": [],
   "source": [
    "import cv2\n",
    "import numpy as np\n",
    "\n",
    "old_img = cv2.imread(\"MenOne.jpeg\")\n",
    "old_img = cv2.resize(old_img , (500,500))\n",
    "\n",
    "new_img = cv2.polylines(img = old_img , pts = [np.array([[200 , 300] , [180 , 80] , [400 , 100] , [400 , 300] , [300 , 200]])] , isClosed = True,\n",
    "                                                         color = (0,255,0) , thickness = 4 , lineType = 16 )\n",
    "\n",
    "\n",
    "cv2.imshow(\"Employee\" , new_img )\n",
    "cv2.waitKey(0)\n",
    "cv2.destroyAllWindows()\n"
   ]
  },
  {
   "cell_type": "code",
   "execution_count": null,
   "id": "e2d16dd0-3982-4682-8420-a9abb54774cd",
   "metadata": {},
   "outputs": [],
   "source": []
  }
 ],
 "metadata": {
  "kernelspec": {
   "display_name": "Python 3 (ipykernel)",
   "language": "python",
   "name": "python3"
  },
  "language_info": {
   "codemirror_mode": {
    "name": "ipython",
    "version": 3
   },
   "file_extension": ".py",
   "mimetype": "text/x-python",
   "name": "python",
   "nbconvert_exporter": "python",
   "pygments_lexer": "ipython3",
   "version": "3.13.1"
  }
 },
 "nbformat": 4,
 "nbformat_minor": 5
}
