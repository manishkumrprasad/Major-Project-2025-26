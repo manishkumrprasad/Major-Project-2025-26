{
 "cells": [
  {
   "cell_type": "code",
   "execution_count": 5,
   "id": "3cf6f42e-6f11-4abb-bcf8-2f25eec8db30",
   "metadata": {},
   "outputs": [],
   "source": [
    "import cv2\n",
    "import numpy as np\n",
    "\n",
    "imgM = cv2.imread(\"MultipleDot.jpeg\")\n",
    "imgS = cv2.imread(\"OneDot.jpeg\")\n",
    "\n",
    "img1 = cv2.resize(imgM , (400,400))\n",
    "img2 = cv2.resize(imgS , (400,400))\n",
    "\n",
    "new = cv2.bitwise_or(img1 , img2 )\n",
    "\n",
    "show = np.hstack((img1 , img2 , new))\n",
    "\n",
    "cv2.imshow(\"Bitwise Practical\" , show)\n",
    "cv2.waitKey(0)\n",
    "cv2.destroyAllWindows()\n",
    "\n"
   ]
  },
  {
   "cell_type": "code",
   "execution_count": null,
   "id": "0458df40-12f4-4e08-892d-ed87f030b2cc",
   "metadata": {},
   "outputs": [],
   "source": []
  },
  {
   "cell_type": "code",
   "execution_count": null,
   "id": "e492ffe9-2c86-495e-bc66-f0d4737ebd49",
   "metadata": {},
   "outputs": [],
   "source": []
  }
 ],
 "metadata": {
  "kernelspec": {
   "display_name": "Python 3 (ipykernel)",
   "language": "python",
   "name": "python3"
  },
  "language_info": {
   "codemirror_mode": {
    "name": "ipython",
    "version": 3
   },
   "file_extension": ".py",
   "mimetype": "text/x-python",
   "name": "python",
   "nbconvert_exporter": "python",
   "pygments_lexer": "ipython3",
   "version": "3.13.1"
  }
 },
 "nbformat": 4,
 "nbformat_minor": 5
}
