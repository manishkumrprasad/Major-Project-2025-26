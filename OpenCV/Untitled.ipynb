{
 "cells": [
  {
   "cell_type": "code",
   "execution_count": 28,
   "id": "982587bc-fe8d-4fcd-9c3b-d28d20ce46c3",
   "metadata": {},
   "outputs": [],
   "source": [
    "import cv2\n",
    "import numpy as np\n",
    "\n",
    "\n",
    "img = cv2.imread(\"Rocky.jpeg\")\n",
    "img = cv2.resize(img , (200,200))\n",
    "\n",
    "img1 = cv2.copyMakeBorder(img , 10 , 10 ,10 ,10 , cv2.BORDER_CONSTANT , None , value = (255,100,255)) #The Value parameter is of tuple type used to pass rgb values\n",
    "img1 = cv2.resize(img1 , (200,200))\n",
    "\n",
    "img2 = cv2.copyMakeBorder(img , 10 , 10 ,10 ,10 , cv2.BORDER_ISOLATED , None , value = (255,100,255)) #The Value parameter is of tuple type used to pass rgb values\n",
    "img2 = cv2.resize(img2 , (200,200))\n",
    "\n",
    "img3 = cv2.copyMakeBorder(img , 10 , 10 ,10 ,10 , cv2.BORDER_REPLICATE ) #The Value parameter is of tuple type used to pass rgb values\n",
    "img3 = cv2.resize(img3 , (200,200))\n",
    "\n",
    "#img4 = cv2.copyMakeBorder(img , 10 , 10 ,10 ,10 , cv2.BORDER_TRANSPARENT ) #The Value parameter is of tuple type used to pass rgb values\n",
    "#img4 = cv2.resize(img4 , (500,500))\n",
    "\n",
    "\n",
    "\n",
    "\n",
    "h = np.hstack((img , img1 , img2 , img3))\n",
    "\n",
    "cv2.imshow(\"Image\" , h)\n",
    "cv2.waitKey(0)\n",
    "cv2.destroyAllWindows()\n"
   ]
  },
  {
   "cell_type": "code",
   "execution_count": null,
   "id": "b4b38f8a-3f94-4f00-a8c9-48a9bd4a54dd",
   "metadata": {},
   "outputs": [],
   "source": []
  },
  {
   "cell_type": "code",
   "execution_count": null,
   "id": "27909102-3d71-40cd-9917-7ee7592cc5c3",
   "metadata": {},
   "outputs": [],
   "source": []
  }
 ],
 "metadata": {
  "kernelspec": {
   "display_name": "Python 3 (ipykernel)",
   "language": "python",
   "name": "python3"
  },
  "language_info": {
   "codemirror_mode": {
    "name": "ipython",
    "version": 3
   },
   "file_extension": ".py",
   "mimetype": "text/x-python",
   "name": "python",
   "nbconvert_exporter": "python",
   "pygments_lexer": "ipython3",
   "version": "3.13.1"
  }
 },
 "nbformat": 4,
 "nbformat_minor": 5
}
