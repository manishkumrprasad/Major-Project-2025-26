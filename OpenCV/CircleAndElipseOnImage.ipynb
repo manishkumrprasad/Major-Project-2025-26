{
 "cells": [
  {
   "cell_type": "code",
   "execution_count": null,
   "id": "c74846db-6ada-45c3-bf07-e6ca0d19a23e",
   "metadata": {},
   "outputs": [],
   "source": [
    "#Program to draw circle on the image\n",
    "import cv2\n",
    "\n",
    "old_img = cv2.imread(\"MenOne.jpeg\")\n",
    "old_img = cv2.resize(old_img , (500,500))\n",
    "\n",
    "img = cv2.circle(img = old_img , center = (250 , 120) , radius = 95 , color = (0 , 255 , 0) , thickness = 4 , lineType = 16)\n",
    "#if you want to hide the face of the user you can pass the thickness value -1 \n",
    "\n",
    "cv2.imshow(\"Employee\" , old_img)\n",
    "cv2.waitKey(0)\n",
    "cv2.destroyAllWindows()"
   ]
  },
  {
   "cell_type": "code",
   "execution_count": 30,
   "id": "003fd2c9-9a62-48e1-b516-b824f54f0deb",
   "metadata": {},
   "outputs": [],
   "source": [
    "#Program to draw ellipse on the image\n",
    "\n",
    "import cv2\n",
    "\n",
    "old_img = cv2.imread(\"MenOne.jpeg\")\n",
    "old_img = cv2.resize(old_img , (500,500))\n",
    "\n",
    "img = cv2.ellipse(img = old_img , center = (250 , 120) , axes = (80,100) , angle = 0 , startAngle = 0 , endAngle = 360 , color = (0 , 255 , 0) , thickness = 4 , lineType = 16)\n",
    "#if you want to hide the face of the user you can pass the thickness value -1 \n",
    "\n",
    "cv2.imshow(\"Employee\" , old_img)\n",
    "cv2.waitKey(0)\n",
    "cv2.destroyAllWindows()"
   ]
  },
  {
   "cell_type": "code",
   "execution_count": null,
   "id": "3203db97-e5ab-4759-8e26-cdc39a9bb54b",
   "metadata": {},
   "outputs": [],
   "source": []
  }
 ],
 "metadata": {
  "kernelspec": {
   "display_name": "Python 3 (ipykernel)",
   "language": "python",
   "name": "python3"
  },
  "language_info": {
   "codemirror_mode": {
    "name": "ipython",
    "version": 3
   },
   "file_extension": ".py",
   "mimetype": "text/x-python",
   "name": "python",
   "nbconvert_exporter": "python",
   "pygments_lexer": "ipython3",
   "version": "3.13.1"
  }
 },
 "nbformat": 4,
 "nbformat_minor": 5
}
