{
 "cells": [
  {
   "cell_type": "code",
   "execution_count": 3,
   "id": "ad7b875e-2b92-432b-b2a9-79f66880bf2a",
   "metadata": {},
   "outputs": [],
   "source": [
    "import cv2\n",
    "\n",
    "cap = cv2.VideoCapture(0)\n",
    "while True : \n",
    "    r , frame = cap.read()\n",
    "    if r == True:\n",
    "        frame = cv2.resize(frame  , (500,500))\n",
    "        cv2.imshow(\"Capturing Video \" , frame)\n",
    "        if cv2.waitKey(1) & 0xff == ord(\"p\"):\n",
    "            break\n",
    "    else:\n",
    "        break\n",
    "\n",
    "cap.release()\n",
    "cv2.destroyAllWindows()"
   ]
  },
  {
   "cell_type": "code",
   "execution_count": null,
   "id": "8f5fe45b-49d1-4f1a-8ba2-d533c3da8d28",
   "metadata": {},
   "outputs": [],
   "source": []
  }
 ],
 "metadata": {
  "kernelspec": {
   "display_name": "Python 3 (ipykernel)",
   "language": "python",
   "name": "python3"
  },
  "language_info": {
   "codemirror_mode": {
    "name": "ipython",
    "version": 3
   },
   "file_extension": ".py",
   "mimetype": "text/x-python",
   "name": "python",
   "nbconvert_exporter": "python",
   "pygments_lexer": "ipython3",
   "version": "3.13.1"
  }
 },
 "nbformat": 4,
 "nbformat_minor": 5
}
