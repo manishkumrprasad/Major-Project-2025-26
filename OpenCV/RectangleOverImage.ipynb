{
 "cells": [
  {
   "cell_type": "code",
   "execution_count": 23,
   "id": "3c8edcd1-5311-4ecd-9356-6ba76d0c8b68",
   "metadata": {},
   "outputs": [],
   "source": [
    "import cv2\n",
    "\n",
    "#Drawing a line in the image\n",
    "old_img = cv2.imread(\"MenOne.jpeg\")\n",
    "old_img = cv2.resize(old_img , (500,500))\n",
    "\n",
    "new_img = cv2.line(img = old_img , pt1 = (185 , 60) , pt2 = (310 , 60) , color = (0,255,0), thickness = 4 , lineType = 4)\n",
    "\n",
    "cv2.imshow(\"Women\",new_img)\n",
    "cv2.waitKey(0)\n",
    "cv2.destroyAllWindows()\n",
    "\n",
    "\n",
    "\n",
    "\n"
   ]
  },
  {
   "cell_type": "code",
   "execution_count": 52,
   "id": "e4d095d3-a970-4706-9881-c8a2b9096bcd",
   "metadata": {},
   "outputs": [],
   "source": [
    "import cv2\n",
    "\n",
    "#Drawing a Rectangle in the image\n",
    "old_img = cv2.imread(\"MenOne.jpeg\")\n",
    "old_img = cv2.resize(old_img , (500,500))\n",
    "\n",
    "txt = cv2.putText(img = old_img , text = \"Employee\", org = (185 , 250), fontFace = 4 ,fontScale = 0.80, color = ( 0, 255,0) , thickness = 2 , lineType = 4 , bottomLeftOrigin = False )\n",
    "\n",
    "new_img = cv2.rectangle(img = txt , pt1 = (182 , 27) , pt2 = (315 , 220) , color = (0,255,0), thickness = 2 , lineType = 4)\n",
    "\n",
    "cv2.imshow(\"Women\",new_img)\n",
    "cv2.waitKey(0)\n",
    "cv2.destroyAllWindows()\n",
    "\n"
   ]
  },
  {
   "cell_type": "code",
   "execution_count": null,
   "id": "137b68e8-4d34-4038-bfdc-bc0243476d49",
   "metadata": {},
   "outputs": [],
   "source": []
  },
  {
   "cell_type": "code",
   "execution_count": null,
   "id": "169d2e77-8f60-4649-9476-71eacf5095ee",
   "metadata": {},
   "outputs": [],
   "source": []
  }
 ],
 "metadata": {
  "kernelspec": {
   "display_name": "Python 3 (ipykernel)",
   "language": "python",
   "name": "python3"
  },
  "language_info": {
   "codemirror_mode": {
    "name": "ipython",
    "version": 3
   },
   "file_extension": ".py",
   "mimetype": "text/x-python",
   "name": "python",
   "nbconvert_exporter": "python",
   "pygments_lexer": "ipython3",
   "version": "3.13.1"
  }
 },
 "nbformat": 4,
 "nbformat_minor": 5
}
